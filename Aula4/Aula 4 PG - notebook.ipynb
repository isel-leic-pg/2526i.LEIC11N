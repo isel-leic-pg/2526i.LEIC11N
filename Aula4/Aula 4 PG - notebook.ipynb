{
 "cells": [
  {
   "metadata": {},
   "cell_type": "markdown",
   "source": "Ver se a letra dada é uma vogal:\n"
  },
  {
   "metadata": {
    "ExecuteTime": {
     "end_time": "2025-10-04T10:50:11.205787800Z",
     "start_time": "2025-10-04T10:50:11.114247400Z"
    }
   },
   "cell_type": "code",
   "source": [
    "val letra = 'a'\n",
    "var achou =  when(letra.lowercase()) {\n",
    "    \"a\", \"e\", \"i\", \"o\", \"u\" -> true\n",
    "    \".\" -> false\n",
    "    else -> false\n",
    "}\n",
    "println(achou)"
   ],
   "outputs": [
    {
     "name": "stdout",
     "output_type": "stream",
     "text": [
      "true\r\n"
     ]
    }
   ],
   "execution_count": 3
  },
  {
   "metadata": {},
   "cell_type": "markdown",
   "source": "avaliar ++ em pós-fixo:"
  },
  {
   "metadata": {
    "ExecuteTime": {
     "end_time": "2025-10-04T10:52:34.937885800Z",
     "start_time": "2025-10-04T10:52:34.863159100Z"
    }
   },
   "cell_type": "code",
   "source": [
    "var contador = 5\n",
    "println(contador++)\n",
    "println(contador)"
   ],
   "outputs": [
    {
     "name": "stdout",
     "output_type": "stream",
     "text": [
      "5\r\n",
      "6\r\n"
     ]
    }
   ],
   "execution_count": 7
  },
  {
   "metadata": {},
   "cell_type": "markdown",
   "source": "avaliar ++ em prefixo:"
  },
  {
   "metadata": {
    "ExecuteTime": {
     "end_time": "2025-10-04T10:54:03.976672400Z",
     "start_time": "2025-10-04T10:54:03.907984600Z"
    }
   },
   "cell_type": "code",
   "source": [
    "var contador = 5\n",
    "println(++contador)\n",
    "println(contador)"
   ],
   "outputs": [
    {
     "name": "stdout",
     "output_type": "stream",
     "text": [
      "6\r\n",
      "6\r\n"
     ]
    }
   ],
   "execution_count": 8
  }
 ],
 "metadata": {
  "kernelspec": {
   "display_name": "Kotlin",
   "language": "kotlin",
   "name": "kotlin"
  },
  "language_info": {
   "name": "kotlin",
   "version": "2.2.20-dev-4982",
   "mimetype": "text/x-kotlin",
   "file_extension": ".kt",
   "pygments_lexer": "kotlin",
   "codemirror_mode": "text/x-kotlin",
   "nbconvert_exporter": ""
  }
 },
 "nbformat": 4,
 "nbformat_minor": 0
}
